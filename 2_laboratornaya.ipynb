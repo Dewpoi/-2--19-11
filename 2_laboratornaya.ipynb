{
 "cells": [
  {
   "cell_type": "markdown",
   "id": "eb210b92",
   "metadata": {},
   "source": [
    "# Импорт библиотек"
   ]
  },
  {
   "cell_type": "code",
   "execution_count": 273,
   "id": "bbe0d64d-d188-4ac5-a0bc-ae525c227cad",
   "metadata": {},
   "outputs": [],
   "source": [
    "import numpy as num\n",
    "import pandas as pand\n",
    "import matplotlib.pyplot as plot\n",
    "import seaborn as sea\n",
    "from sklearn.model_selection import train_test_split\n",
    "from sklearn.linear_model import LogisticRegression\n",
    "from sklearn.metrics import accuracy_score\n",
    "from sklearn.linear_model import LinearRegression\n",
    "from sklearn.metrics import mean_squared_error"
   ]
  },
  {
   "cell_type": "markdown",
   "id": "91ec31ba-cf1a-4da6-a0e6-c1c06d4d0b56",
   "metadata": {},
   "source": [
    "# Лабораторная работа №2."
   ]
  },
  {
   "cell_type": "markdown",
   "id": "df92c216",
   "metadata": {},
   "source": [
    "## Часть 1."
   ]
  },
  {
   "cell_type": "markdown",
   "id": "58370ca4-d0e8-4176-8884-009fb3e38ec9",
   "metadata": {},
   "source": [
    "### Задание 1."
   ]
  },
  {
   "cell_type": "markdown",
   "id": "b4f1bbde",
   "metadata": {},
   "source": [
    "##### Чтение датасетов из файлов orders.csv и products.csv."
   ]
  },
  {
   "cell_type": "code",
   "execution_count": 274,
   "id": "e65678e6-9dd8-4f70-ac58-00df5ab5fd20",
   "metadata": {},
   "outputs": [],
   "source": [
    "orders = pand.read_csv(\"orders.csv\")\n",
    "products = pand.read_csv(\"products.csv\")"
   ]
  },
  {
   "cell_type": "markdown",
   "id": "ef93c0f1-d009-42ec-ac93-75952616291d",
   "metadata": {},
   "source": [
    "##### 1) Определите число уникальных продуктов в каждой категории"
   ]
  },
  {
   "cell_type": "code",
   "execution_count": 275,
   "id": "f850e3fb-35bc-4e26-b34f-738b1bdcf530",
   "metadata": {},
   "outputs": [
    {
     "data": {
      "text/plain": [
       "Кондитерские изделия    17\n",
       "Овощи                   16\n",
       "Приправы                11\n",
       "Фрукты                   9\n",
       "Морепродукты             7\n",
       "Мясо/Птица               7\n",
       "Молочные продукты        6\n",
       "Крупы                    4\n",
       "Name: CategoryName, dtype: int64"
      ]
     },
     "execution_count": 275,
     "metadata": {},
     "output_type": "execute_result"
    }
   ],
   "source": [
    "products[\"CategoryName\"].value_counts()"
   ]
  },
  {
   "cell_type": "markdown",
   "id": "753cf6c8-7c54-4475-953e-2f2e71ead547",
   "metadata": {},
   "source": [
    "##### 2) Выведите все продукты в категории \"Морепродукты\""
   ]
  },
  {
   "cell_type": "code",
   "execution_count": 276,
   "id": "3c14298e-518f-43e7-bb63-47e9f05c9ae8",
   "metadata": {},
   "outputs": [
    {
     "data": {
      "text/html": [
       "<div>\n",
       "<style scoped>\n",
       "    .dataframe tbody tr th:only-of-type {\n",
       "        vertical-align: middle;\n",
       "    }\n",
       "\n",
       "    .dataframe tbody tr th {\n",
       "        vertical-align: top;\n",
       "    }\n",
       "\n",
       "    .dataframe thead th {\n",
       "        text-align: right;\n",
       "    }\n",
       "</style>\n",
       "<table border=\"1\" class=\"dataframe\">\n",
       "  <thead>\n",
       "    <tr style=\"text-align: right;\">\n",
       "      <th></th>\n",
       "      <th>ProductID</th>\n",
       "      <th>ProductName</th>\n",
       "      <th>QuantityPerUnit</th>\n",
       "      <th>UnitCost</th>\n",
       "      <th>UnitPrice</th>\n",
       "      <th>CategoryName</th>\n",
       "    </tr>\n",
       "  </thead>\n",
       "  <tbody>\n",
       "    <tr>\n",
       "      <th>29</th>\n",
       "      <td>9</td>\n",
       "      <td>Омары</td>\n",
       "      <td>10</td>\n",
       "      <td>32.90</td>\n",
       "      <td>39.00</td>\n",
       "      <td>Морепродукты</td>\n",
       "    </tr>\n",
       "    <tr>\n",
       "      <th>30</th>\n",
       "      <td>17</td>\n",
       "      <td>Кальмары</td>\n",
       "      <td>36</td>\n",
       "      <td>19.35</td>\n",
       "      <td>25.00</td>\n",
       "      <td>Морепродукты</td>\n",
       "    </tr>\n",
       "    <tr>\n",
       "      <th>31</th>\n",
       "      <td>29</td>\n",
       "      <td>Креветки</td>\n",
       "      <td>1</td>\n",
       "      <td>100.74</td>\n",
       "      <td>123.79</td>\n",
       "      <td>Морепродукты</td>\n",
       "    </tr>\n",
       "    <tr>\n",
       "      <th>32</th>\n",
       "      <td>45</td>\n",
       "      <td>Крабовые палочки</td>\n",
       "      <td>100</td>\n",
       "      <td>8.44</td>\n",
       "      <td>9.50</td>\n",
       "      <td>Морепродукты</td>\n",
       "    </tr>\n",
       "    <tr>\n",
       "      <th>33</th>\n",
       "      <td>47</td>\n",
       "      <td>Мидии мини</td>\n",
       "      <td>14</td>\n",
       "      <td>22.12</td>\n",
       "      <td>25.50</td>\n",
       "      <td>Морепродукты</td>\n",
       "    </tr>\n",
       "    <tr>\n",
       "      <th>34</th>\n",
       "      <td>48</td>\n",
       "      <td>Креветки мини</td>\n",
       "      <td>25</td>\n",
       "      <td>28.35</td>\n",
       "      <td>32.75</td>\n",
       "      <td>Морепродукты</td>\n",
       "    </tr>\n",
       "    <tr>\n",
       "      <th>35</th>\n",
       "      <td>51</td>\n",
       "      <td>Мидии</td>\n",
       "      <td>10</td>\n",
       "      <td>82.74</td>\n",
       "      <td>99.90</td>\n",
       "      <td>Морепродукты</td>\n",
       "    </tr>\n",
       "  </tbody>\n",
       "</table>\n",
       "</div>"
      ],
      "text/plain": [
       "    ProductID       ProductName  QuantityPerUnit  UnitCost  UnitPrice  \\\n",
       "29          9             Омары               10     32.90      39.00   \n",
       "30         17          Кальмары               36     19.35      25.00   \n",
       "31         29          Креветки                1    100.74     123.79   \n",
       "32         45  Крабовые палочки              100      8.44       9.50   \n",
       "33         47        Мидии мини               14     22.12      25.50   \n",
       "34         48     Креветки мини               25     28.35      32.75   \n",
       "35         51             Мидии               10     82.74      99.90   \n",
       "\n",
       "    CategoryName  \n",
       "29  Морепродукты  \n",
       "30  Морепродукты  \n",
       "31  Морепродукты  \n",
       "32  Морепродукты  \n",
       "33  Морепродукты  \n",
       "34  Морепродукты  \n",
       "35  Морепродукты  "
      ]
     },
     "execution_count": 276,
     "metadata": {},
     "output_type": "execute_result"
    }
   ],
   "source": [
    "products[products[\"CategoryName\"] == 'Морепродукты']"
   ]
  },
  {
   "cell_type": "markdown",
   "id": "df81b572-eb61-4787-95a2-e8414eba3cc1",
   "metadata": {},
   "source": [
    "##### 3) Выведите график числа заказов за каждый прошедший месяц."
   ]
  },
  {
   "cell_type": "code",
   "execution_count": 277,
   "id": "46e8c1f5-fc59-4c1d-9575-ccaf3fac064e",
   "metadata": {},
   "outputs": [
    {
     "data": {
      "text/plain": [
       "<AxesSubplot:xlabel='OrderDate'>"
      ]
     },
     "execution_count": 277,
     "metadata": {},
     "output_type": "execute_result"
    },
    {
     "data": {
      "image/png": "[encoded data removed]",
      "text/plain": [
       "<Figure size 576x396 with 1 Axes>"
      ]
     },
     "metadata": {},
     "output_type": "display_data"
    }
   ],
   "source": [
    "temp = orders.copy()\n",
    "temp = temp[[\"OrderID\", \"OrderDate\"]].drop_duplicates()\n",
    "temp.index = date = pand.to_datetime(temp[\"OrderDate\"])\n",
    "temp.groupby(by=[temp.index.month])[\"OrderDate\"].count().plot()"
   ]
  },
  {
   "cell_type": "markdown",
   "id": "b65f510f",
   "metadata": {},
   "source": [
    "##### Обединим таблицы для дальнейшего удобства."
   ]
  },
  {
   "cell_type": "code",
   "execution_count": 278,
   "metadata": {},
   "outputs": [],
   "source": [
    "joined = pand.merge(orders, products, how=\"inner\", on=\"ProductID\")"
   ]
  },
  {
   "cell_type": "markdown",
   "id": "57e30527-5ff2-4823-822c-a2abbf36e9bd",
   "metadata": {},
   "source": [
    "##### 4) Заведите столбец \"OrderSum\" (сколько было оплачено за продукт по заказу, с учётом его количества, стоимости единицы товара и скидки). Определите самые дорогие заказы (сгруппировав по OrderID)"
   ]
  },
  {
   "cell_type": "code",
   "execution_count": 279,
   "id": "90b8bbb0-5b99-4c60-a7ae-a645610913d3",
   "metadata": {},
   "outputs": [
    {
     "data": {
      "text/html": [
       "<div>\n",
       "<style scoped>\n",
       "    .dataframe tbody tr th:only-of-type {\n",
       "        vertical-align: middle;\n",
       "    }\n",
       "\n",
       "    .dataframe tbody tr th {\n",
       "        vertical-align: top;\n",
       "    }\n",
       "\n",
       "    .dataframe thead th {\n",
       "        text-align: right;\n",
       "    }\n",
       "</style>\n",
       "<table border=\"1\" class=\"dataframe\">\n",
       "  <thead>\n",
       "    <tr style=\"text-align: right;\">\n",
       "      <th></th>\n",
       "      <th>OrderID</th>\n",
       "      <th>OrderDate</th>\n",
       "      <th>ProductID</th>\n",
       "      <th>UnitPrice_x</th>\n",
       "      <th>Quantity</th>\n",
       "      <th>Discount</th>\n",
       "      <th>ProductName</th>\n",
       "      <th>QuantityPerUnit</th>\n",
       "      <th>UnitCost</th>\n",
       "      <th>UnitPrice_y</th>\n",
       "      <th>CategoryName</th>\n",
       "      <th>OrderSum</th>\n",
       "    </tr>\n",
       "  </thead>\n",
       "  <tbody>\n",
       "    <tr>\n",
       "      <th>0</th>\n",
       "      <td>10248</td>\n",
       "      <td>2007-01-30</td>\n",
       "      <td>11</td>\n",
       "      <td>28.62</td>\n",
       "      <td>12</td>\n",
       "      <td>0.00</td>\n",
       "      <td>Киви</td>\n",
       "      <td>25</td>\n",
       "      <td>21.1</td>\n",
       "      <td>28.0</td>\n",
       "      <td>Фрукты</td>\n",
       "      <td>8586.0</td>\n",
       "    </tr>\n",
       "    <tr>\n",
       "      <th>1</th>\n",
       "      <td>10296</td>\n",
       "      <td>2004-02-02</td>\n",
       "      <td>11</td>\n",
       "      <td>26.62</td>\n",
       "      <td>12</td>\n",
       "      <td>0.00</td>\n",
       "      <td>Киви</td>\n",
       "      <td>25</td>\n",
       "      <td>21.1</td>\n",
       "      <td>28.0</td>\n",
       "      <td>Фрукты</td>\n",
       "      <td>7986.0</td>\n",
       "    </tr>\n",
       "    <tr>\n",
       "      <th>2</th>\n",
       "      <td>10327</td>\n",
       "      <td>2004-07-08</td>\n",
       "      <td>11</td>\n",
       "      <td>29.10</td>\n",
       "      <td>50</td>\n",
       "      <td>0.20</td>\n",
       "      <td>Киви</td>\n",
       "      <td>25</td>\n",
       "      <td>21.1</td>\n",
       "      <td>28.0</td>\n",
       "      <td>Фрукты</td>\n",
       "      <td>35000.0</td>\n",
       "    </tr>\n",
       "    <tr>\n",
       "      <th>3</th>\n",
       "      <td>10353</td>\n",
       "      <td>2007-06-11</td>\n",
       "      <td>11</td>\n",
       "      <td>29.75</td>\n",
       "      <td>12</td>\n",
       "      <td>0.20</td>\n",
       "      <td>Киви</td>\n",
       "      <td>25</td>\n",
       "      <td>21.1</td>\n",
       "      <td>28.0</td>\n",
       "      <td>Фрукты</td>\n",
       "      <td>8400.0</td>\n",
       "    </tr>\n",
       "    <tr>\n",
       "      <th>4</th>\n",
       "      <td>10365</td>\n",
       "      <td>2004-06-24</td>\n",
       "      <td>11</td>\n",
       "      <td>29.48</td>\n",
       "      <td>24</td>\n",
       "      <td>0.00</td>\n",
       "      <td>Киви</td>\n",
       "      <td>25</td>\n",
       "      <td>21.1</td>\n",
       "      <td>28.0</td>\n",
       "      <td>Фрукты</td>\n",
       "      <td>17688.0</td>\n",
       "    </tr>\n",
       "    <tr>\n",
       "      <th>...</th>\n",
       "      <td>...</td>\n",
       "      <td>...</td>\n",
       "      <td>...</td>\n",
       "      <td>...</td>\n",
       "      <td>...</td>\n",
       "      <td>...</td>\n",
       "      <td>...</td>\n",
       "      <td>...</td>\n",
       "      <td>...</td>\n",
       "      <td>...</td>\n",
       "      <td>...</td>\n",
       "      <td>...</td>\n",
       "    </tr>\n",
       "    <tr>\n",
       "      <th>2167</th>\n",
       "      <td>10515</td>\n",
       "      <td>2004-12-18</td>\n",
       "      <td>9</td>\n",
       "      <td>42.05</td>\n",
       "      <td>16</td>\n",
       "      <td>0.15</td>\n",
       "      <td>Омары</td>\n",
       "      <td>10</td>\n",
       "      <td>32.9</td>\n",
       "      <td>39.0</td>\n",
       "      <td>Морепродукты</td>\n",
       "      <td>6240.0</td>\n",
       "    </tr>\n",
       "    <tr>\n",
       "      <th>2168</th>\n",
       "      <td>10687</td>\n",
       "      <td>2006-04-26</td>\n",
       "      <td>9</td>\n",
       "      <td>41.17</td>\n",
       "      <td>50</td>\n",
       "      <td>0.25</td>\n",
       "      <td>Омары</td>\n",
       "      <td>10</td>\n",
       "      <td>32.9</td>\n",
       "      <td>39.0</td>\n",
       "      <td>Морепродукты</td>\n",
       "      <td>19500.0</td>\n",
       "    </tr>\n",
       "    <tr>\n",
       "      <th>2169</th>\n",
       "      <td>10693</td>\n",
       "      <td>2006-05-02</td>\n",
       "      <td>9</td>\n",
       "      <td>35.30</td>\n",
       "      <td>6</td>\n",
       "      <td>0.00</td>\n",
       "      <td>Омары</td>\n",
       "      <td>10</td>\n",
       "      <td>32.9</td>\n",
       "      <td>39.0</td>\n",
       "      <td>Морепродукты</td>\n",
       "      <td>2118.0</td>\n",
       "    </tr>\n",
       "    <tr>\n",
       "      <th>2170</th>\n",
       "      <td>10848</td>\n",
       "      <td>2007-06-21</td>\n",
       "      <td>9</td>\n",
       "      <td>40.32</td>\n",
       "      <td>3</td>\n",
       "      <td>0.00</td>\n",
       "      <td>Омары</td>\n",
       "      <td>10</td>\n",
       "      <td>32.9</td>\n",
       "      <td>39.0</td>\n",
       "      <td>Морепродукты</td>\n",
       "      <td>1209.6</td>\n",
       "    </tr>\n",
       "    <tr>\n",
       "      <th>2171</th>\n",
       "      <td>11083</td>\n",
       "      <td>2006-06-16</td>\n",
       "      <td>9</td>\n",
       "      <td>38.90</td>\n",
       "      <td>5</td>\n",
       "      <td>0.00</td>\n",
       "      <td>Омары</td>\n",
       "      <td>10</td>\n",
       "      <td>32.9</td>\n",
       "      <td>39.0</td>\n",
       "      <td>Морепродукты</td>\n",
       "      <td>1945.0</td>\n",
       "    </tr>\n",
       "  </tbody>\n",
       "</table>\n",
       "<p>2172 rows × 12 columns</p>\n",
       "</div>"
      ],
      "text/plain": [
       "      OrderID   OrderDate  ProductID  UnitPrice_x  Quantity  Discount  \\\n",
       "0       10248  2007-01-30         11        28.62        12      0.00   \n",
       "1       10296  2004-02-02         11        26.62        12      0.00   \n",
       "2       10327  2004-07-08         11        29.10        50      0.20   \n",
       "3       10353  2007-06-11         11        29.75        12      0.20   \n",
       "4       10365  2004-06-24         11        29.48        24      0.00   \n",
       "...       ...         ...        ...          ...       ...       ...   \n",
       "2167    10515  2004-12-18          9        42.05        16      0.15   \n",
       "2168    10687  2006-04-26          9        41.17        50      0.25   \n",
       "2169    10693  2006-05-02          9        35.30         6      0.00   \n",
       "2170    10848  2007-06-21          9        40.32         3      0.00   \n",
       "2171    11083  2006-06-16          9        38.90         5      0.00   \n",
       "\n",
       "     ProductName  QuantityPerUnit  UnitCost  UnitPrice_y  CategoryName  \\\n",
       "0           Киви               25      21.1         28.0        Фрукты   \n",
       "1           Киви               25      21.1         28.0        Фрукты   \n",
       "2           Киви               25      21.1         28.0        Фрукты   \n",
       "3           Киви               25      21.1         28.0        Фрукты   \n",
       "4           Киви               25      21.1         28.0        Фрукты   \n",
       "...          ...              ...       ...          ...           ...   \n",
       "2167       Омары               10      32.9         39.0  Морепродукты   \n",
       "2168       Омары               10      32.9         39.0  Морепродукты   \n",
       "2169       Омары               10      32.9         39.0  Морепродукты   \n",
       "2170       Омары               10      32.9         39.0  Морепродукты   \n",
       "2171       Омары               10      32.9         39.0  Морепродукты   \n",
       "\n",
       "      OrderSum  \n",
       "0       8586.0  \n",
       "1       7986.0  \n",
       "2      35000.0  \n",
       "3       8400.0  \n",
       "4      17688.0  \n",
       "...        ...  \n",
       "2167    6240.0  \n",
       "2168   19500.0  \n",
       "2169    2118.0  \n",
       "2170    1209.6  \n",
       "2171    1945.0  \n",
       "\n",
       "[2172 rows x 12 columns]"
      ]
     },
     "execution_count": 279,
     "metadata": {},
     "output_type": "execute_result"
    }
   ],
   "source": [
    "joined[\"OrderSum\"] = num.where(joined[\"Discount\"] == 0.0, joined[\"Quantity\"] * joined[\"QuantityPerUnit\"] * joined[\"UnitPrice_x\"],\n",
    "                                joined[\"Quantity\"] * joined[\"QuantityPerUnit\"] * joined[\"UnitPrice_y\"])\n",
    "                                \n",
    "joined"
   ]
  },
  {
   "cell_type": "markdown",
   "id": "849c0290-19d4-45fa-a313-e3e1e97886b1",
   "metadata": {},
   "source": [
    "##### 5) Определите продукты с максимальной стоимостью за шт. (не за единицу товара)"
   ]
  },
  {
   "cell_type": "code",
   "execution_count": 280,
   "id": "f8144159-3da7-427f-9770-f35b05bd6813",
   "metadata": {},
   "outputs": [
    {
     "data": {
      "text/plain": [
       "UnitCost\n",
       "0.89      Лавровый лист\n",
       "1.65       Булка-улитка\n",
       "2.65             Курица\n",
       "3.21                Лук\n",
       "3.43       Хмели-Сунели\n",
       "              ...      \n",
       "67.17             Батат\n",
       "70.81          Говядина\n",
       "82.74             Мидии\n",
       "100.74         Креветки\n",
       "304.70       Перец чили\n",
       "Name: ProductName, Length: 75, dtype: object"
      ]
     },
     "execution_count": 280,
     "metadata": {},
     "output_type": "execute_result"
    }
   ],
   "source": [
    "joined.groupby(by=\"UnitCost\")[\"ProductName\"].max()"
   ]
  },
  {
   "cell_type": "markdown",
   "id": "d995bc4f-7db4-426d-b2ca-84fea16ffd39",
   "metadata": {},
   "source": [
    "### Задание 2."
   ]
  },
  {
   "cell_type": "markdown",
   "id": "c0acf075-eeca-46a7-b661-e0b599a6f3c5",
   "metadata": {},
   "source": [
    "##### 1) Для каждой категории продуктов выведите средний доход от продаж. (OrderSum)"
   ]
  },
  {
   "cell_type": "code",
   "execution_count": 281,
   "id": "097c0cf1-fbfe-4ad2-8aa1-642e60da87ff",
   "metadata": {},
   "outputs": [
    {
     "data": {
      "text/plain": [
       "CategoryName\n",
       "Кондитерские изделия     9619.025811\n",
       "Крупы                   18372.002041\n",
       "Молочные продукты        3128.196721\n",
       "Морепродукты            16994.526051\n",
       "Мясо/Птица              10805.512814\n",
       "Овощи                   10625.982930\n",
       "Приправы                 6048.968208\n",
       "Фрукты                   6884.007265\n",
       "Name: OrderSum, dtype: float64"
      ]
     },
     "execution_count": 281,
     "metadata": {},
     "output_type": "execute_result"
    }
   ],
   "source": [
    "joined.groupby(by=\"CategoryName\")[\"OrderSum\"].mean()"
   ]
  },
  {
   "cell_type": "markdown",
   "id": "bbd092a1-1575-43ef-8ada-58b8e0cb2afc",
   "metadata": {},
   "source": [
    "##### 2) Введите столбец \"Profit\" - разность между доходами и приблизительной закупочной стоимостью проданных товаров."
   ]
  },
  {
   "cell_type": "code",
   "execution_count": 282,
   "id": "bc05b994-3b5f-48e7-b8e5-2e258ac37c4f",
   "metadata": {},
   "outputs": [
    {
     "data": {
      "text/html": [
       "<div>\n",
       "<style scoped>\n",
       "    .dataframe tbody tr th:only-of-type {\n",
       "        vertical-align: middle;\n",
       "    }\n",
       "\n",
       "    .dataframe tbody tr th {\n",
       "        vertical-align: top;\n",
       "    }\n",
       "\n",
       "    .dataframe thead th {\n",
       "        text-align: right;\n",
       "    }\n",
       "</style>\n",
       "<table border=\"1\" class=\"dataframe\">\n",
       "  <thead>\n",
       "    <tr style=\"text-align: right;\">\n",
       "      <th></th>\n",
       "      <th>OrderID</th>\n",
       "      <th>OrderDate</th>\n",
       "      <th>ProductID</th>\n",
       "      <th>UnitPrice_x</th>\n",
       "      <th>Quantity</th>\n",
       "      <th>Discount</th>\n",
       "      <th>ProductName</th>\n",
       "      <th>QuantityPerUnit</th>\n",
       "      <th>UnitCost</th>\n",
       "      <th>UnitPrice_y</th>\n",
       "      <th>CategoryName</th>\n",
       "      <th>OrderSum</th>\n",
       "      <th>Profit</th>\n",
       "    </tr>\n",
       "  </thead>\n",
       "  <tbody>\n",
       "    <tr>\n",
       "      <th>0</th>\n",
       "      <td>10248</td>\n",
       "      <td>2007-01-30</td>\n",
       "      <td>11</td>\n",
       "      <td>28.62</td>\n",
       "      <td>12</td>\n",
       "      <td>0.00</td>\n",
       "      <td>Киви</td>\n",
       "      <td>25</td>\n",
       "      <td>21.1</td>\n",
       "      <td>28.0</td>\n",
       "      <td>Фрукты</td>\n",
       "      <td>8586.0</td>\n",
       "      <td>2256.0</td>\n",
       "    </tr>\n",
       "    <tr>\n",
       "      <th>1</th>\n",
       "      <td>10296</td>\n",
       "      <td>2004-02-02</td>\n",
       "      <td>11</td>\n",
       "      <td>26.62</td>\n",
       "      <td>12</td>\n",
       "      <td>0.00</td>\n",
       "      <td>Киви</td>\n",
       "      <td>25</td>\n",
       "      <td>21.1</td>\n",
       "      <td>28.0</td>\n",
       "      <td>Фрукты</td>\n",
       "      <td>7986.0</td>\n",
       "      <td>1656.0</td>\n",
       "    </tr>\n",
       "    <tr>\n",
       "      <th>2</th>\n",
       "      <td>10327</td>\n",
       "      <td>2004-07-08</td>\n",
       "      <td>11</td>\n",
       "      <td>29.10</td>\n",
       "      <td>50</td>\n",
       "      <td>0.20</td>\n",
       "      <td>Киви</td>\n",
       "      <td>25</td>\n",
       "      <td>21.1</td>\n",
       "      <td>28.0</td>\n",
       "      <td>Фрукты</td>\n",
       "      <td>35000.0</td>\n",
       "      <td>8625.0</td>\n",
       "    </tr>\n",
       "    <tr>\n",
       "      <th>3</th>\n",
       "      <td>10353</td>\n",
       "      <td>2007-06-11</td>\n",
       "      <td>11</td>\n",
       "      <td>29.75</td>\n",
       "      <td>12</td>\n",
       "      <td>0.20</td>\n",
       "      <td>Киви</td>\n",
       "      <td>25</td>\n",
       "      <td>21.1</td>\n",
       "      <td>28.0</td>\n",
       "      <td>Фрукты</td>\n",
       "      <td>8400.0</td>\n",
       "      <td>2070.0</td>\n",
       "    </tr>\n",
       "    <tr>\n",
       "      <th>4</th>\n",
       "      <td>10365</td>\n",
       "      <td>2004-06-24</td>\n",
       "      <td>11</td>\n",
       "      <td>29.48</td>\n",
       "      <td>24</td>\n",
       "      <td>0.00</td>\n",
       "      <td>Киви</td>\n",
       "      <td>25</td>\n",
       "      <td>21.1</td>\n",
       "      <td>28.0</td>\n",
       "      <td>Фрукты</td>\n",
       "      <td>17688.0</td>\n",
       "      <td>5028.0</td>\n",
       "    </tr>\n",
       "    <tr>\n",
       "      <th>...</th>\n",
       "      <td>...</td>\n",
       "      <td>...</td>\n",
       "      <td>...</td>\n",
       "      <td>...</td>\n",
       "      <td>...</td>\n",
       "      <td>...</td>\n",
       "      <td>...</td>\n",
       "      <td>...</td>\n",
       "      <td>...</td>\n",
       "      <td>...</td>\n",
       "      <td>...</td>\n",
       "      <td>...</td>\n",
       "      <td>...</td>\n",
       "    </tr>\n",
       "    <tr>\n",
       "      <th>2167</th>\n",
       "      <td>10515</td>\n",
       "      <td>2004-12-18</td>\n",
       "      <td>9</td>\n",
       "      <td>42.05</td>\n",
       "      <td>16</td>\n",
       "      <td>0.15</td>\n",
       "      <td>Омары</td>\n",
       "      <td>10</td>\n",
       "      <td>32.9</td>\n",
       "      <td>39.0</td>\n",
       "      <td>Морепродукты</td>\n",
       "      <td>6240.0</td>\n",
       "      <td>976.0</td>\n",
       "    </tr>\n",
       "    <tr>\n",
       "      <th>2168</th>\n",
       "      <td>10687</td>\n",
       "      <td>2006-04-26</td>\n",
       "      <td>9</td>\n",
       "      <td>41.17</td>\n",
       "      <td>50</td>\n",
       "      <td>0.25</td>\n",
       "      <td>Омары</td>\n",
       "      <td>10</td>\n",
       "      <td>32.9</td>\n",
       "      <td>39.0</td>\n",
       "      <td>Морепродукты</td>\n",
       "      <td>19500.0</td>\n",
       "      <td>3050.0</td>\n",
       "    </tr>\n",
       "    <tr>\n",
       "      <th>2169</th>\n",
       "      <td>10693</td>\n",
       "      <td>2006-05-02</td>\n",
       "      <td>9</td>\n",
       "      <td>35.30</td>\n",
       "      <td>6</td>\n",
       "      <td>0.00</td>\n",
       "      <td>Омары</td>\n",
       "      <td>10</td>\n",
       "      <td>32.9</td>\n",
       "      <td>39.0</td>\n",
       "      <td>Морепродукты</td>\n",
       "      <td>2118.0</td>\n",
       "      <td>144.0</td>\n",
       "    </tr>\n",
       "    <tr>\n",
       "      <th>2170</th>\n",
       "      <td>10848</td>\n",
       "      <td>2007-06-21</td>\n",
       "      <td>9</td>\n",
       "      <td>40.32</td>\n",
       "      <td>3</td>\n",
       "      <td>0.00</td>\n",
       "      <td>Омары</td>\n",
       "      <td>10</td>\n",
       "      <td>32.9</td>\n",
       "      <td>39.0</td>\n",
       "      <td>Морепродукты</td>\n",
       "      <td>1209.6</td>\n",
       "      <td>222.6</td>\n",
       "    </tr>\n",
       "    <tr>\n",
       "      <th>2171</th>\n",
       "      <td>11083</td>\n",
       "      <td>2006-06-16</td>\n",
       "      <td>9</td>\n",
       "      <td>38.90</td>\n",
       "      <td>5</td>\n",
       "      <td>0.00</td>\n",
       "      <td>Омары</td>\n",
       "      <td>10</td>\n",
       "      <td>32.9</td>\n",
       "      <td>39.0</td>\n",
       "      <td>Морепродукты</td>\n",
       "      <td>1945.0</td>\n",
       "      <td>300.0</td>\n",
       "    </tr>\n",
       "  </tbody>\n",
       "</table>\n",
       "<p>2172 rows × 13 columns</p>\n",
       "</div>"
      ],
      "text/plain": [
       "      OrderID   OrderDate  ProductID  UnitPrice_x  Quantity  Discount  \\\n",
       "0       10248  2007-01-30         11        28.62        12      0.00   \n",
       "1       10296  2004-02-02         11        26.62        12      0.00   \n",
       "2       10327  2004-07-08         11        29.10        50      0.20   \n",
       "3       10353  2007-06-11         11        29.75        12      0.20   \n",
       "4       10365  2004-06-24         11        29.48        24      0.00   \n",
       "...       ...         ...        ...          ...       ...       ...   \n",
       "2167    10515  2004-12-18          9        42.05        16      0.15   \n",
       "2168    10687  2006-04-26          9        41.17        50      0.25   \n",
       "2169    10693  2006-05-02          9        35.30         6      0.00   \n",
       "2170    10848  2007-06-21          9        40.32         3      0.00   \n",
       "2171    11083  2006-06-16          9        38.90         5      0.00   \n",
       "\n",
       "     ProductName  QuantityPerUnit  UnitCost  UnitPrice_y  CategoryName  \\\n",
       "0           Киви               25      21.1         28.0        Фрукты   \n",
       "1           Киви               25      21.1         28.0        Фрукты   \n",
       "2           Киви               25      21.1         28.0        Фрукты   \n",
       "3           Киви               25      21.1         28.0        Фрукты   \n",
       "4           Киви               25      21.1         28.0        Фрукты   \n",
       "...          ...              ...       ...          ...           ...   \n",
       "2167       Омары               10      32.9         39.0  Морепродукты   \n",
       "2168       Омары               10      32.9         39.0  Морепродукты   \n",
       "2169       Омары               10      32.9         39.0  Морепродукты   \n",
       "2170       Омары               10      32.9         39.0  Морепродукты   \n",
       "2171       Омары               10      32.9         39.0  Морепродукты   \n",
       "\n",
       "      OrderSum  Profit  \n",
       "0       8586.0  2256.0  \n",
       "1       7986.0  1656.0  \n",
       "2      35000.0  8625.0  \n",
       "3       8400.0  2070.0  \n",
       "4      17688.0  5028.0  \n",
       "...        ...     ...  \n",
       "2167    6240.0   976.0  \n",
       "2168   19500.0  3050.0  \n",
       "2169    2118.0   144.0  \n",
       "2170    1209.6   222.6  \n",
       "2171    1945.0   300.0  \n",
       "\n",
       "[2172 rows x 13 columns]"
      ]
     },
     "execution_count": 282,
     "metadata": {},
     "output_type": "execute_result"
    }
   ],
   "source": [
    "joined[\"Profit\"] = joined[\"OrderSum\"] - joined[\"Quantity\"] * joined[\"QuantityPerUnit\"] * joined[\"UnitCost\"]\n",
    "\n",
    "joined"
   ]
  },
  {
   "cell_type": "markdown",
   "id": "92ca5147-9f48-47af-8491-18c8cd5b6de5",
   "metadata": {},
   "source": [
    "##### 3) Найдите по убыванию суммарной прибыли категории товаров, обеспечивающие  её 80 процентов. Выведите аналогичные данные только за 2005 и 2006 год."
   ]
  },
  {
   "cell_type": "code",
   "execution_count": 283,
   "id": "f63979c2-50ed-44cb-bb2c-484a4a75d55c",
   "metadata": {},
   "outputs": [
    {
     "data": {
      "text/plain": [
       "CategoryName\n",
       "Молочные продукты       0.020417\n",
       "Крупы                   0.082412\n",
       "Мясо/Птица              0.084124\n",
       "Приправы                0.101007\n",
       "Фрукты                  0.116488\n",
       "Морепродукты            0.130295\n",
       "Овощи                   0.204543\n",
       "Кондитерские изделия    0.260714\n",
       "Name: Profit, dtype: float64"
      ]
     },
     "execution_count": 283,
     "metadata": {},
     "output_type": "execute_result"
    }
   ],
   "source": [
    "(joined.groupby(by=\"CategoryName\")[\"Profit\"].sum() / joined[\"Profit\"].sum()).sort_values()\n"
   ]
  },
  {
   "cell_type": "markdown",
   "id": "0793aa50-97c1-4726-af19-86e3a8dac481",
   "metadata": {},
   "source": [
    "#### Задание 3."
   ]
  },
  {
   "cell_type": "markdown",
   "id": "172672dd-3fc6-4319-9bc4-47175c1a1aa1",
   "metadata": {},
   "source": [
    "##### Чтение датасета из файла housing.csv."
   ]
  },
  {
   "cell_type": "code",
   "execution_count": 284,
   "id": "c879e3bb-081f-49a7-a1ee-ce803ff5b3bb",
   "metadata": {},
   "outputs": [
    {
     "data": {
      "text/html": [
       "<div>\n",
       "<style scoped>\n",
       "    .dataframe tbody tr th:only-of-type {\n",
       "        vertical-align: middle;\n",
       "    }\n",
       "\n",
       "    .dataframe tbody tr th {\n",
       "        vertical-align: top;\n",
       "    }\n",
       "\n",
       "    .dataframe thead th {\n",
       "        text-align: right;\n",
       "    }\n",
       "</style>\n",
       "<table border=\"1\" class=\"dataframe\">\n",
       "  <thead>\n",
       "    <tr style=\"text-align: right;\">\n",
       "      <th></th>\n",
       "      <th>longitude</th>\n",
       "      <th>latitude</th>\n",
       "      <th>housing_median_age</th>\n",
       "      <th>total_rooms</th>\n",
       "      <th>total_bedrooms</th>\n",
       "      <th>population</th>\n",
       "      <th>households</th>\n",
       "      <th>median_income</th>\n",
       "      <th>median_house_value</th>\n",
       "      <th>ocean_proximity</th>\n",
       "    </tr>\n",
       "  </thead>\n",
       "  <tbody>\n",
       "    <tr>\n",
       "      <th>0</th>\n",
       "      <td>-122.23</td>\n",
       "      <td>37.88</td>\n",
       "      <td>41.0</td>\n",
       "      <td>880.0</td>\n",
       "      <td>129.0</td>\n",
       "      <td>322.0</td>\n",
       "      <td>126.0</td>\n",
       "      <td>8.3252</td>\n",
       "      <td>452600.0</td>\n",
       "      <td>NEAR BAY</td>\n",
       "    </tr>\n",
       "    <tr>\n",
       "      <th>1</th>\n",
       "      <td>-122.22</td>\n",
       "      <td>37.86</td>\n",
       "      <td>21.0</td>\n",
       "      <td>7099.0</td>\n",
       "      <td>1106.0</td>\n",
       "      <td>2401.0</td>\n",
       "      <td>1138.0</td>\n",
       "      <td>8.3014</td>\n",
       "      <td>358500.0</td>\n",
       "      <td>NEAR BAY</td>\n",
       "    </tr>\n",
       "    <tr>\n",
       "      <th>2</th>\n",
       "      <td>-122.24</td>\n",
       "      <td>37.85</td>\n",
       "      <td>52.0</td>\n",
       "      <td>1467.0</td>\n",
       "      <td>190.0</td>\n",
       "      <td>496.0</td>\n",
       "      <td>177.0</td>\n",
       "      <td>7.2574</td>\n",
       "      <td>352100.0</td>\n",
       "      <td>NEAR BAY</td>\n",
       "    </tr>\n",
       "    <tr>\n",
       "      <th>3</th>\n",
       "      <td>-122.25</td>\n",
       "      <td>37.85</td>\n",
       "      <td>52.0</td>\n",
       "      <td>1274.0</td>\n",
       "      <td>235.0</td>\n",
       "      <td>558.0</td>\n",
       "      <td>219.0</td>\n",
       "      <td>5.6431</td>\n",
       "      <td>341300.0</td>\n",
       "      <td>NEAR BAY</td>\n",
       "    </tr>\n",
       "    <tr>\n",
       "      <th>4</th>\n",
       "      <td>-122.25</td>\n",
       "      <td>37.85</td>\n",
       "      <td>52.0</td>\n",
       "      <td>1627.0</td>\n",
       "      <td>280.0</td>\n",
       "      <td>565.0</td>\n",
       "      <td>259.0</td>\n",
       "      <td>3.8462</td>\n",
       "      <td>342200.0</td>\n",
       "      <td>NEAR BAY</td>\n",
       "    </tr>\n",
       "    <tr>\n",
       "      <th>...</th>\n",
       "      <td>...</td>\n",
       "      <td>...</td>\n",
       "      <td>...</td>\n",
       "      <td>...</td>\n",
       "      <td>...</td>\n",
       "      <td>...</td>\n",
       "      <td>...</td>\n",
       "      <td>...</td>\n",
       "      <td>...</td>\n",
       "      <td>...</td>\n",
       "    </tr>\n",
       "    <tr>\n",
       "      <th>20635</th>\n",
       "      <td>-121.09</td>\n",
       "      <td>39.48</td>\n",
       "      <td>25.0</td>\n",
       "      <td>1665.0</td>\n",
       "      <td>374.0</td>\n",
       "      <td>845.0</td>\n",
       "      <td>330.0</td>\n",
       "      <td>1.5603</td>\n",
       "      <td>78100.0</td>\n",
       "      <td>INLAND</td>\n",
       "    </tr>\n",
       "    <tr>\n",
       "      <th>20636</th>\n",
       "      <td>-121.21</td>\n",
       "      <td>39.49</td>\n",
       "      <td>18.0</td>\n",
       "      <td>697.0</td>\n",
       "      <td>150.0</td>\n",
       "      <td>356.0</td>\n",
       "      <td>114.0</td>\n",
       "      <td>2.5568</td>\n",
       "      <td>77100.0</td>\n",
       "      <td>INLAND</td>\n",
       "    </tr>\n",
       "    <tr>\n",
       "      <th>20637</th>\n",
       "      <td>-121.22</td>\n",
       "      <td>39.43</td>\n",
       "      <td>17.0</td>\n",
       "      <td>2254.0</td>\n",
       "      <td>485.0</td>\n",
       "      <td>1007.0</td>\n",
       "      <td>433.0</td>\n",
       "      <td>1.7000</td>\n",
       "      <td>92300.0</td>\n",
       "      <td>INLAND</td>\n",
       "    </tr>\n",
       "    <tr>\n",
       "      <th>20638</th>\n",
       "      <td>-121.32</td>\n",
       "      <td>39.43</td>\n",
       "      <td>18.0</td>\n",
       "      <td>1860.0</td>\n",
       "      <td>409.0</td>\n",
       "      <td>741.0</td>\n",
       "      <td>349.0</td>\n",
       "      <td>1.8672</td>\n",
       "      <td>84700.0</td>\n",
       "      <td>INLAND</td>\n",
       "    </tr>\n",
       "    <tr>\n",
       "      <th>20639</th>\n",
       "      <td>-121.24</td>\n",
       "      <td>39.37</td>\n",
       "      <td>16.0</td>\n",
       "      <td>2785.0</td>\n",
       "      <td>616.0</td>\n",
       "      <td>1387.0</td>\n",
       "      <td>530.0</td>\n",
       "      <td>2.3886</td>\n",
       "      <td>89400.0</td>\n",
       "      <td>INLAND</td>\n",
       "    </tr>\n",
       "  </tbody>\n",
       "</table>\n",
       "<p>20640 rows × 10 columns</p>\n",
       "</div>"
      ],
      "text/plain": [
       "       longitude  latitude  housing_median_age  total_rooms  total_bedrooms  \\\n",
       "0        -122.23     37.88                41.0        880.0           129.0   \n",
       "1        -122.22     37.86                21.0       7099.0          1106.0   \n",
       "2        -122.24     37.85                52.0       1467.0           190.0   \n",
       "3        -122.25     37.85                52.0       1274.0           235.0   \n",
       "4        -122.25     37.85                52.0       1627.0           280.0   \n",
       "...          ...       ...                 ...          ...             ...   \n",
       "20635    -121.09     39.48                25.0       1665.0           374.0   \n",
       "20636    -121.21     39.49                18.0        697.0           150.0   \n",
       "20637    -121.22     39.43                17.0       2254.0           485.0   \n",
       "20638    -121.32     39.43                18.0       1860.0           409.0   \n",
       "20639    -121.24     39.37                16.0       2785.0           616.0   \n",
       "\n",
       "       population  households  median_income  median_house_value  \\\n",
       "0           322.0       126.0         8.3252            452600.0   \n",
       "1          2401.0      1138.0         8.3014            358500.0   \n",
       "2           496.0       177.0         7.2574            352100.0   \n",
       "3           558.0       219.0         5.6431            341300.0   \n",
       "4           565.0       259.0         3.8462            342200.0   \n",
       "...           ...         ...            ...                 ...   \n",
       "20635       845.0       330.0         1.5603             78100.0   \n",
       "20636       356.0       114.0         2.5568             77100.0   \n",
       "20637      1007.0       433.0         1.7000             92300.0   \n",
       "20638       741.0       349.0         1.8672             84700.0   \n",
       "20639      1387.0       530.0         2.3886             89400.0   \n",
       "\n",
       "      ocean_proximity  \n",
       "0            NEAR BAY  \n",
       "1            NEAR BAY  \n",
       "2            NEAR BAY  \n",
       "3            NEAR BAY  \n",
       "4            NEAR BAY  \n",
       "...               ...  \n",
       "20635          INLAND  \n",
       "20636          INLAND  \n",
       "20637          INLAND  \n",
       "20638          INLAND  \n",
       "20639          INLAND  \n",
       "\n",
       "[20640 rows x 10 columns]"
      ]
     },
     "execution_count": 284,
     "metadata": {},
     "output_type": "execute_result"
    }
   ],
   "source": [
    "housing = pand.read_csv(\"housing.csv\")\n",
    "housing"
   ]
  },
  {
   "cell_type": "markdown",
   "id": "fc8d40cf",
   "metadata": {},
   "source": [
    "##### 1) Разбейте датасет на тренировочную, валидационную и тестовую выборку"
   ]
  },
  {
   "cell_type": "code",
   "execution_count": 285,
   "id": "0e8bfc84-13ba-4d0a-8264-e24479cf8699",
   "metadata": {},
   "outputs": [],
   "source": [
    "train_validation, test = train_test_split(housing, test_size = 0.2)\n",
    "train, validation = train_test_split(train_validation, test_size = 0.2)"
   ]
  },
  {
   "cell_type": "markdown",
   "id": "64a50f80-153a-40ff-b621-acf2f0ad909a",
   "metadata": {},
   "source": [
    "##### 2) Проведите преобразование категориального признака ocean_proximity через OneHot или Dummy-кодировку"
   ]
  },
  {
   "cell_type": "code",
   "execution_count": 286,
   "id": "6b05ca94-c715-4923-bcb6-762615333009",
   "metadata": {},
   "outputs": [],
   "source": [
    "housing_dummy = pand.get_dummies(housing, columns=[\"ocean_proximity\"])"
   ]
  },
  {
   "cell_type": "markdown",
   "id": "4af5d879-34fd-438f-968e-0719170ac04c",
   "metadata": {},
   "source": [
    "##### 3) Замените признаки total_rooms и total_bedrooms на average_rooms и average_bedrooms (поделив на households)."
   ]
  },
  {
   "cell_type": "code",
   "execution_count": 287,
   "id": "592b359d-cf15-4f4c-acfa-f0845aead12c",
   "metadata": {},
   "outputs": [
    {
     "data": {
      "text/html": [
       "<div>\n",
       "<style scoped>\n",
       "    .dataframe tbody tr th:only-of-type {\n",
       "        vertical-align: middle;\n",
       "    }\n",
       "\n",
       "    .dataframe tbody tr th {\n",
       "        vertical-align: top;\n",
       "    }\n",
       "\n",
       "    .dataframe thead th {\n",
       "        text-align: right;\n",
       "    }\n",
       "</style>\n",
       "<table border=\"1\" class=\"dataframe\">\n",
       "  <thead>\n",
       "    <tr style=\"text-align: right;\">\n",
       "      <th></th>\n",
       "      <th>longitude</th>\n",
       "      <th>latitude</th>\n",
       "      <th>housing_median_age</th>\n",
       "      <th>average_rooms</th>\n",
       "      <th>average_bedrooms</th>\n",
       "      <th>population</th>\n",
       "      <th>households</th>\n",
       "      <th>median_income</th>\n",
       "      <th>median_house_value</th>\n",
       "      <th>ocean_proximity</th>\n",
       "    </tr>\n",
       "  </thead>\n",
       "  <tbody>\n",
       "    <tr>\n",
       "      <th>0</th>\n",
       "      <td>-122.23</td>\n",
       "      <td>37.88</td>\n",
       "      <td>41.0</td>\n",
       "      <td>6.984127</td>\n",
       "      <td>1.023810</td>\n",
       "      <td>322.0</td>\n",
       "      <td>126.0</td>\n",
       "      <td>8.3252</td>\n",
       "      <td>452600.0</td>\n",
       "      <td>NEAR BAY</td>\n",
       "    </tr>\n",
       "    <tr>\n",
       "      <th>1</th>\n",
       "      <td>-122.22</td>\n",
       "      <td>37.86</td>\n",
       "      <td>21.0</td>\n",
       "      <td>6.238137</td>\n",
       "      <td>0.971880</td>\n",
       "      <td>2401.0</td>\n",
       "      <td>1138.0</td>\n",
       "      <td>8.3014</td>\n",
       "      <td>358500.0</td>\n",
       "      <td>NEAR BAY</td>\n",
       "    </tr>\n",
       "    <tr>\n",
       "      <th>2</th>\n",
       "      <td>-122.24</td>\n",
       "      <td>37.85</td>\n",
       "      <td>52.0</td>\n",
       "      <td>8.288136</td>\n",
       "      <td>1.073446</td>\n",
       "      <td>496.0</td>\n",
       "      <td>177.0</td>\n",
       "      <td>7.2574</td>\n",
       "      <td>352100.0</td>\n",
       "      <td>NEAR BAY</td>\n",
       "    </tr>\n",
       "    <tr>\n",
       "      <th>3</th>\n",
       "      <td>-122.25</td>\n",
       "      <td>37.85</td>\n",
       "      <td>52.0</td>\n",
       "      <td>5.817352</td>\n",
       "      <td>1.073059</td>\n",
       "      <td>558.0</td>\n",
       "      <td>219.0</td>\n",
       "      <td>5.6431</td>\n",
       "      <td>341300.0</td>\n",
       "      <td>NEAR BAY</td>\n",
       "    </tr>\n",
       "    <tr>\n",
       "      <th>4</th>\n",
       "      <td>-122.25</td>\n",
       "      <td>37.85</td>\n",
       "      <td>52.0</td>\n",
       "      <td>6.281853</td>\n",
       "      <td>1.081081</td>\n",
       "      <td>565.0</td>\n",
       "      <td>259.0</td>\n",
       "      <td>3.8462</td>\n",
       "      <td>342200.0</td>\n",
       "      <td>NEAR BAY</td>\n",
       "    </tr>\n",
       "    <tr>\n",
       "      <th>...</th>\n",
       "      <td>...</td>\n",
       "      <td>...</td>\n",
       "      <td>...</td>\n",
       "      <td>...</td>\n",
       "      <td>...</td>\n",
       "      <td>...</td>\n",
       "      <td>...</td>\n",
       "      <td>...</td>\n",
       "      <td>...</td>\n",
       "      <td>...</td>\n",
       "    </tr>\n",
       "    <tr>\n",
       "      <th>20635</th>\n",
       "      <td>-121.09</td>\n",
       "      <td>39.48</td>\n",
       "      <td>25.0</td>\n",
       "      <td>5.045455</td>\n",
       "      <td>1.133333</td>\n",
       "      <td>845.0</td>\n",
       "      <td>330.0</td>\n",
       "      <td>1.5603</td>\n",
       "      <td>78100.0</td>\n",
       "      <td>INLAND</td>\n",
       "    </tr>\n",
       "    <tr>\n",
       "      <th>20636</th>\n",
       "      <td>-121.21</td>\n",
       "      <td>39.49</td>\n",
       "      <td>18.0</td>\n",
       "      <td>6.114035</td>\n",
       "      <td>1.315789</td>\n",
       "      <td>356.0</td>\n",
       "      <td>114.0</td>\n",
       "      <td>2.5568</td>\n",
       "      <td>77100.0</td>\n",
       "      <td>INLAND</td>\n",
       "    </tr>\n",
       "    <tr>\n",
       "      <th>20637</th>\n",
       "      <td>-121.22</td>\n",
       "      <td>39.43</td>\n",
       "      <td>17.0</td>\n",
       "      <td>5.205543</td>\n",
       "      <td>1.120092</td>\n",
       "      <td>1007.0</td>\n",
       "      <td>433.0</td>\n",
       "      <td>1.7000</td>\n",
       "      <td>92300.0</td>\n",
       "      <td>INLAND</td>\n",
       "    </tr>\n",
       "    <tr>\n",
       "      <th>20638</th>\n",
       "      <td>-121.32</td>\n",
       "      <td>39.43</td>\n",
       "      <td>18.0</td>\n",
       "      <td>5.329513</td>\n",
       "      <td>1.171920</td>\n",
       "      <td>741.0</td>\n",
       "      <td>349.0</td>\n",
       "      <td>1.8672</td>\n",
       "      <td>84700.0</td>\n",
       "      <td>INLAND</td>\n",
       "    </tr>\n",
       "    <tr>\n",
       "      <th>20639</th>\n",
       "      <td>-121.24</td>\n",
       "      <td>39.37</td>\n",
       "      <td>16.0</td>\n",
       "      <td>5.254717</td>\n",
       "      <td>1.162264</td>\n",
       "      <td>1387.0</td>\n",
       "      <td>530.0</td>\n",
       "      <td>2.3886</td>\n",
       "      <td>89400.0</td>\n",
       "      <td>INLAND</td>\n",
       "    </tr>\n",
       "  </tbody>\n",
       "</table>\n",
       "<p>20640 rows × 10 columns</p>\n",
       "</div>"
      ],
      "text/plain": [
       "       longitude  latitude  housing_median_age  average_rooms  \\\n",
       "0        -122.23     37.88                41.0       6.984127   \n",
       "1        -122.22     37.86                21.0       6.238137   \n",
       "2        -122.24     37.85                52.0       8.288136   \n",
       "3        -122.25     37.85                52.0       5.817352   \n",
       "4        -122.25     37.85                52.0       6.281853   \n",
       "...          ...       ...                 ...            ...   \n",
       "20635    -121.09     39.48                25.0       5.045455   \n",
       "20636    -121.21     39.49                18.0       6.114035   \n",
       "20637    -121.22     39.43                17.0       5.205543   \n",
       "20638    -121.32     39.43                18.0       5.329513   \n",
       "20639    -121.24     39.37                16.0       5.254717   \n",
       "\n",
       "       average_bedrooms  population  households  median_income  \\\n",
       "0              1.023810       322.0       126.0         8.3252   \n",
       "1              0.971880      2401.0      1138.0         8.3014   \n",
       "2              1.073446       496.0       177.0         7.2574   \n",
       "3              1.073059       558.0       219.0         5.6431   \n",
       "4              1.081081       565.0       259.0         3.8462   \n",
       "...                 ...         ...         ...            ...   \n",
       "20635          1.133333       845.0       330.0         1.5603   \n",
       "20636          1.315789       356.0       114.0         2.5568   \n",
       "20637          1.120092      1007.0       433.0         1.7000   \n",
       "20638          1.171920       741.0       349.0         1.8672   \n",
       "20639          1.162264      1387.0       530.0         2.3886   \n",
       "\n",
       "       median_house_value ocean_proximity  \n",
       "0                452600.0        NEAR BAY  \n",
       "1                358500.0        NEAR BAY  \n",
       "2                352100.0        NEAR BAY  \n",
       "3                341300.0        NEAR BAY  \n",
       "4                342200.0        NEAR BAY  \n",
       "...                   ...             ...  \n",
       "20635             78100.0          INLAND  \n",
       "20636             77100.0          INLAND  \n",
       "20637             92300.0          INLAND  \n",
       "20638             84700.0          INLAND  \n",
       "20639             89400.0          INLAND  \n",
       "\n",
       "[20640 rows x 10 columns]"
      ]
     },
     "execution_count": 287,
     "metadata": {},
     "output_type": "execute_result"
    }
   ],
   "source": [
    "housing[\"total_rooms\"] /= housing[\"households\"]\n",
    "housing[\"total_bedrooms\"] /= housing[\"households\"]\n",
    "housing.rename(columns={'total_rooms': 'average_rooms'}, inplace=True)\n",
    "housing.rename(columns={'total_bedrooms': 'average_bedrooms'}, inplace=True)\n",
    "\n",
    "housing"
   ]
  },
  {
   "cell_type": "markdown",
   "id": "cdccd698-3f5c-4429-afb4-c846397187b9",
   "metadata": {},
   "source": [
    "##### 4) В признаке average_bedrooms (total_bedrooms) есть отсутствующие значения. Определите число экземпляров данных, для которых этот признак отсутствует. Придумайте и обоснуйте стратегию заполнения пропусков в этой задаче. Заполните пропуски."
   ]
  },
  {
   "cell_type": "code",
   "execution_count": 288,
   "id": "616fdc62-b30a-45f7-9a07-d611e45857b0",
   "metadata": {},
   "outputs": [],
   "source": [
    "housing[\"average_bedrooms\"].fillna(value=housing[\"average_bedrooms\"].mean(), inplace=True)"
   ]
  },
  {
   "cell_type": "markdown",
   "id": "2dbaa667-bbce-4648-aa3e-8ca961624044",
   "metadata": {},
   "source": [
    "##### 5) Нормализуйте признаки longitude и latitude (сделайте так, чтобы каждый признак имел среднее значение 0 и дисперсию 1 внутри обучающей выборки)"
   ]
  },
  {
   "cell_type": "code",
   "execution_count": 289,
   "id": "221e59e0-b21f-4397-b861-a165a41b9846",
   "metadata": {},
   "outputs": [],
   "source": [
    "train[\"longitude\"] = (train[\"longitude\"] - train[\"longitude\"].mean()) / train[\"longitude\"].std()\n",
    "train[\"latitude\"] = (train[\"latitude\"] - train[\"latitude\"].mean()) / train[\"latitude\"].std()"
   ]
  },
  {
   "cell_type": "markdown",
   "id": "dec992b5-16ed-48e6-a2ac-b0c02fdfc6c1",
   "metadata": {},
   "source": [
    "### Часть 2"
   ]
  },
  {
   "cell_type": "markdown",
   "id": "f7607f6c-b963-4863-b26b-b68792dc80b4",
   "metadata": {},
   "source": [
    "#### Задание 1."
   ]
  },
  {
   "cell_type": "code",
   "execution_count": 290,
   "id": "fd454029-7452-4d50-a00d-b9d2750373d3",
   "metadata": {},
   "outputs": [
    {
     "data": {
      "text/html": [
       "<div>\n",
       "<style scoped>\n",
       "    .dataframe tbody tr th:only-of-type {\n",
       "        vertical-align: middle;\n",
       "    }\n",
       "\n",
       "    .dataframe tbody tr th {\n",
       "        vertical-align: top;\n",
       "    }\n",
       "\n",
       "    .dataframe thead th {\n",
       "        text-align: right;\n",
       "    }\n",
       "</style>\n",
       "<table border=\"1\" class=\"dataframe\">\n",
       "  <thead>\n",
       "    <tr style=\"text-align: right;\">\n",
       "      <th></th>\n",
       "      <th>Unnamed: 0</th>\n",
       "      <th>sex</th>\n",
       "      <th>weight</th>\n",
       "      <th>height</th>\n",
       "      <th>repwt</th>\n",
       "      <th>repht</th>\n",
       "    </tr>\n",
       "  </thead>\n",
       "  <tbody>\n",
       "    <tr>\n",
       "      <th>0</th>\n",
       "      <td>1</td>\n",
       "      <td>M</td>\n",
       "      <td>77</td>\n",
       "      <td>182</td>\n",
       "      <td>77.0</td>\n",
       "      <td>180.0</td>\n",
       "    </tr>\n",
       "    <tr>\n",
       "      <th>1</th>\n",
       "      <td>2</td>\n",
       "      <td>F</td>\n",
       "      <td>58</td>\n",
       "      <td>161</td>\n",
       "      <td>51.0</td>\n",
       "      <td>159.0</td>\n",
       "    </tr>\n",
       "    <tr>\n",
       "      <th>2</th>\n",
       "      <td>3</td>\n",
       "      <td>F</td>\n",
       "      <td>53</td>\n",
       "      <td>161</td>\n",
       "      <td>54.0</td>\n",
       "      <td>158.0</td>\n",
       "    </tr>\n",
       "    <tr>\n",
       "      <th>3</th>\n",
       "      <td>4</td>\n",
       "      <td>M</td>\n",
       "      <td>68</td>\n",
       "      <td>177</td>\n",
       "      <td>70.0</td>\n",
       "      <td>175.0</td>\n",
       "    </tr>\n",
       "    <tr>\n",
       "      <th>4</th>\n",
       "      <td>5</td>\n",
       "      <td>F</td>\n",
       "      <td>59</td>\n",
       "      <td>157</td>\n",
       "      <td>59.0</td>\n",
       "      <td>155.0</td>\n",
       "    </tr>\n",
       "    <tr>\n",
       "      <th>...</th>\n",
       "      <td>...</td>\n",
       "      <td>...</td>\n",
       "      <td>...</td>\n",
       "      <td>...</td>\n",
       "      <td>...</td>\n",
       "      <td>...</td>\n",
       "    </tr>\n",
       "    <tr>\n",
       "      <th>195</th>\n",
       "      <td>196</td>\n",
       "      <td>M</td>\n",
       "      <td>74</td>\n",
       "      <td>175</td>\n",
       "      <td>71.0</td>\n",
       "      <td>175.0</td>\n",
       "    </tr>\n",
       "    <tr>\n",
       "      <th>196</th>\n",
       "      <td>197</td>\n",
       "      <td>M</td>\n",
       "      <td>83</td>\n",
       "      <td>180</td>\n",
       "      <td>80.0</td>\n",
       "      <td>180.0</td>\n",
       "    </tr>\n",
       "    <tr>\n",
       "      <th>197</th>\n",
       "      <td>198</td>\n",
       "      <td>M</td>\n",
       "      <td>81</td>\n",
       "      <td>175</td>\n",
       "      <td>NaN</td>\n",
       "      <td>NaN</td>\n",
       "    </tr>\n",
       "    <tr>\n",
       "      <th>198</th>\n",
       "      <td>199</td>\n",
       "      <td>M</td>\n",
       "      <td>90</td>\n",
       "      <td>181</td>\n",
       "      <td>91.0</td>\n",
       "      <td>178.0</td>\n",
       "    </tr>\n",
       "    <tr>\n",
       "      <th>199</th>\n",
       "      <td>200</td>\n",
       "      <td>M</td>\n",
       "      <td>79</td>\n",
       "      <td>177</td>\n",
       "      <td>81.0</td>\n",
       "      <td>178.0</td>\n",
       "    </tr>\n",
       "  </tbody>\n",
       "</table>\n",
       "<p>200 rows × 6 columns</p>\n",
       "</div>"
      ],
      "text/plain": [
       "     Unnamed: 0 sex  weight  height  repwt  repht\n",
       "0             1   M      77     182   77.0  180.0\n",
       "1             2   F      58     161   51.0  159.0\n",
       "2             3   F      53     161   54.0  158.0\n",
       "3             4   M      68     177   70.0  175.0\n",
       "4             5   F      59     157   59.0  155.0\n",
       "..          ...  ..     ...     ...    ...    ...\n",
       "195         196   M      74     175   71.0  175.0\n",
       "196         197   M      83     180   80.0  180.0\n",
       "197         198   M      81     175    NaN    NaN\n",
       "198         199   M      90     181   91.0  178.0\n",
       "199         200   M      79     177   81.0  178.0\n",
       "\n",
       "[200 rows x 6 columns]"
      ]
     },
     "execution_count": 290,
     "metadata": {},
     "output_type": "execute_result"
    }
   ],
   "source": [
    "davis = pand.read_csv(\"Davis.csv\")\n",
    "davis"
   ]
  },
  {
   "cell_type": "markdown",
   "id": "30b41864-91ed-4ee9-852a-132177c65745",
   "metadata": {},
   "source": [
    "##### 1) Удалите некорректные данные"
   ]
  },
  {
   "cell_type": "code",
   "execution_count": 291,
   "id": "fd5d909e-69e9-429a-8833-b4ce1581d14d",
   "metadata": {},
   "outputs": [
    {
     "data": {
      "text/plain": [
       "Unnamed: 0    0.0\n",
       "sex           0.0\n",
       "weight        0.0\n",
       "height        0.0\n",
       "repwt         0.0\n",
       "repht         0.0\n",
       "dtype: float64"
      ]
     },
     "execution_count": 291,
     "metadata": {},
     "output_type": "execute_result"
    }
   ],
   "source": [
    "davis.dropna(inplace=True)\n",
    "\n",
    "davis.isna().sum() / len(davis)"
   ]
  },
  {
   "cell_type": "markdown",
   "id": "a7c725f5-4d2d-4192-8fcd-871e3e41e5bf",
   "metadata": {},
   "source": [
    "##### 2) Выделите тестовую выборку из 50 экземпляров"
   ]
  },
  {
   "cell_type": "code",
   "execution_count": 292,
   "id": "f3969f84-29e1-4abb-ac13-7fac9713df61",
   "metadata": {},
   "outputs": [],
   "source": [
    "train, test = train_test_split(davis, test_size=50)"
   ]
  },
  {
   "cell_type": "markdown",
   "id": "b0ae6c23-c40b-4327-bf99-b4f726e77602",
   "metadata": {},
   "source": [
    "##### 3) На тренировочных данных постройте: Гистограмму height, Гистограмму weight, Эти же гистограммы для разных полов"
   ]
  },
  {
   "cell_type": "code",
   "execution_count": 293,
   "id": "2d51b5ac-eb1b-4dcf-aa0c-5a400ed0d574",
   "metadata": {},
   "outputs": [
    {
     "data": {
      "text/plain": [
       "<AxesSubplot:xlabel='height', ylabel='Count'>"
      ]
     },
     "execution_count": 293,
     "metadata": {},
     "output_type": "execute_result"
    },
    {
     "data": {
      "image/png": "[encoded data removed]",
      "text/plain": [
       "<Figure size 576x396 with 1 Axes>"
      ]
     },
     "metadata": {},
     "output_type": "display_data"
    }
   ],
   "source": [
    "sea.histplot(davis[\"height\"], kde = True)"
   ]
  },
  {
   "cell_type": "code",
   "execution_count": 294,
   "id": "9e1eb56b-8a35-4ba8-b1a9-11a9b19426ed",
   "metadata": {},
   "outputs": [
    {
     "data": {
      "text/plain": [
       "<AxesSubplot:xlabel='weight', ylabel='Count'>"
      ]
     },
     "execution_count": 294,
     "metadata": {},
     "output_type": "execute_result"
    },
    {
     "data": {
      "image/png": "[encoded data removed]",
      "text/plain": [
       "<Figure size 576x396 with 1 Axes>"
      ]
     },
     "metadata": {},
     "output_type": "display_data"
    }
   ],
   "source": [
    "sea.histplot(davis[\"weight\"], kde = True)"
   ]
  },
  {
   "cell_type": "code",
   "execution_count": 295,
   "id": "3b6baf83-f3da-4693-abaf-7c6e97a163f3",
   "metadata": {},
   "outputs": [],
   "source": [
    "davis_men = davis[davis[\"sex\"] == 'M']\n",
    "davis_women = davis[davis[\"sex\"] == 'F']"
   ]
  },
  {
   "cell_type": "code",
   "execution_count": 296,
   "id": "3bb95dda-35fa-43c1-8d32-e74e9f80d97d",
   "metadata": {},
   "outputs": [
    {
     "data": {
      "text/plain": [
       "<AxesSubplot:xlabel='height', ylabel='Count'>"
      ]
     },
     "execution_count": 296,
     "metadata": {},
     "output_type": "execute_result"
    },
    {
     "data": {
      "image/png": "[encoded data removed]",
      "text/plain": [
       "<Figure size 576x396 with 1 Axes>"
      ]
     },
     "metadata": {},
     "output_type": "display_data"
    }
   ],
   "source": [
    "sea.histplot(davis_men['height'], kde = True)"
   ]
  },
  {
   "cell_type": "code",
   "execution_count": 297,
   "id": "5000a924-7663-4f25-b84e-b2d3c5354eec",
   "metadata": {},
   "outputs": [
    {
     "data": {
      "text/plain": [
       "<AxesSubplot:xlabel='weight', ylabel='Count'>"
      ]
     },
     "execution_count": 297,
     "metadata": {},
     "output_type": "execute_result"
    },
    {
     "data": {
      "image/png": "[encoded data removed]",
      "text/plain": [
       "<Figure size 576x396 with 1 Axes>"
      ]
     },
     "metadata": {},
     "output_type": "display_data"
    }
   ],
   "source": [
    "sea.histplot(davis_men[\"weight\"], kde = True)"
   ]
  },
  {
   "cell_type": "code",
   "execution_count": 298,
   "id": "5e54b42c-8d9e-4072-bcc0-3dbead475898",
   "metadata": {},
   "outputs": [
    {
     "data": {
      "text/plain": [
       "<AxesSubplot:xlabel='height', ylabel='Count'>"
      ]
     },
     "execution_count": 298,
     "metadata": {},
     "output_type": "execute_result"
    },
    {
     "data": {
      "image/png": "[encoded data removed]",
      "text/plain": [
       "<Figure size 576x396 with 1 Axes>"
      ]
     },
     "metadata": {},
     "output_type": "display_data"
    }
   ],
   "source": [
    "sea.histplot(davis_women[\"height\"], kde = True)"
   ]
  },
  {
   "cell_type": "code",
   "execution_count": 299,
   "id": "cba26386-bd36-4b6d-80d0-1546ffc1b532",
   "metadata": {},
   "outputs": [
    {
     "data": {
      "text/plain": [
       "<AxesSubplot:xlabel='weight', ylabel='Count'>"
      ]
     },
     "execution_count": 299,
     "metadata": {},
     "output_type": "execute_result"
    },
    {
     "data": {
      "image/png": "[encoded data removed]",
      "text/plain": [
       "<Figure size 576x396 with 1 Axes>"
      ]
     },
     "metadata": {},
     "output_type": "display_data"
    }
   ],
   "source": [
    "sea.histplot(davis_women[\"weight\"], kde = True)"
   ]
  },
  {
   "cell_type": "markdown",
   "id": "c4f7afff-a77d-4d9a-8dc9-8ec1d79e7fb4",
   "metadata": {},
   "source": [
    "##### 4) На тренировочных данных обучите классификатор пола (sex), используя только признаки height и weight. Замерьте производительность на тренировочной и тестовой выборке (через Accuracy). Рекомендуемые модели:  логистическая регрессия, quadratic discriminant analysis."
   ]
  },
  {
   "cell_type": "code",
   "execution_count": 300,
   "id": "a7a96078-1cee-44f4-9fd3-f84e35b50c43",
   "metadata": {},
   "outputs": [
    {
     "data": {
      "text/plain": [
       "0.9"
      ]
     },
     "execution_count": 300,
     "metadata": {},
     "output_type": "execute_result"
    }
   ],
   "source": [
    "train.replace({'M': 0, 'F': 1}, inplace=True)\n",
    "test.replace({'M': 0, 'F': 1}, inplace=True)\n",
    "\n",
    "trainX = train.loc[:, [\"height\", \"weight\"]].to_numpy()\n",
    "trainY = train[\"sex\"].to_numpy()\n",
    "testX = test.loc[:, [\"height\", \"weight\"]].to_numpy()\n",
    "testY = test[\"sex\"].to_numpy()\n",
    "\n",
    "classificator = LogisticRegression().fit(trainX, trainY)\n",
    "classificator.score(trainX, trainY)\n",
    "\n",
    "predictions = classificator.predict(testX) \n",
    "accuracy_score(predictions, testY)"
   ]
  },
  {
   "cell_type": "markdown",
   "id": "1b10a26b-5908-4359-a0ed-10174093cb8f",
   "metadata": {},
   "source": [
    "#### Задание 2."
   ]
  },
  {
   "cell_type": "markdown",
   "id": "0a1649ae-0481-4c2d-adac-581dc19557a9",
   "metadata": {},
   "source": [
    "##### Чтение данных из таблицы exel."
   ]
  },
  {
   "cell_type": "code",
   "execution_count": 301,
   "id": "871ac9a4-fb1d-47e2-bc68-5bc5fcdb706d",
   "metadata": {},
   "outputs": [
    {
     "data": {
      "text/html": [
       "<div>\n",
       "<style scoped>\n",
       "    .dataframe tbody tr th:only-of-type {\n",
       "        vertical-align: middle;\n",
       "    }\n",
       "\n",
       "    .dataframe tbody tr th {\n",
       "        vertical-align: top;\n",
       "    }\n",
       "\n",
       "    .dataframe thead th {\n",
       "        text-align: right;\n",
       "    }\n",
       "</style>\n",
       "<table border=\"1\" class=\"dataframe\">\n",
       "  <thead>\n",
       "    <tr style=\"text-align: right;\">\n",
       "      <th></th>\n",
       "      <th>AT</th>\n",
       "      <th>V</th>\n",
       "      <th>AP</th>\n",
       "      <th>RH</th>\n",
       "      <th>PE</th>\n",
       "    </tr>\n",
       "  </thead>\n",
       "  <tbody>\n",
       "    <tr>\n",
       "      <th>0</th>\n",
       "      <td>14.96</td>\n",
       "      <td>41.76</td>\n",
       "      <td>1024.07</td>\n",
       "      <td>73.17</td>\n",
       "      <td>463.26</td>\n",
       "    </tr>\n",
       "    <tr>\n",
       "      <th>1</th>\n",
       "      <td>25.18</td>\n",
       "      <td>62.96</td>\n",
       "      <td>1020.04</td>\n",
       "      <td>59.08</td>\n",
       "      <td>444.37</td>\n",
       "    </tr>\n",
       "    <tr>\n",
       "      <th>2</th>\n",
       "      <td>5.11</td>\n",
       "      <td>39.40</td>\n",
       "      <td>1012.16</td>\n",
       "      <td>92.14</td>\n",
       "      <td>488.56</td>\n",
       "    </tr>\n",
       "    <tr>\n",
       "      <th>3</th>\n",
       "      <td>20.86</td>\n",
       "      <td>57.32</td>\n",
       "      <td>1010.24</td>\n",
       "      <td>76.64</td>\n",
       "      <td>446.48</td>\n",
       "    </tr>\n",
       "    <tr>\n",
       "      <th>4</th>\n",
       "      <td>10.82</td>\n",
       "      <td>37.50</td>\n",
       "      <td>1009.23</td>\n",
       "      <td>96.62</td>\n",
       "      <td>473.90</td>\n",
       "    </tr>\n",
       "    <tr>\n",
       "      <th>...</th>\n",
       "      <td>...</td>\n",
       "      <td>...</td>\n",
       "      <td>...</td>\n",
       "      <td>...</td>\n",
       "      <td>...</td>\n",
       "    </tr>\n",
       "    <tr>\n",
       "      <th>9563</th>\n",
       "      <td>16.65</td>\n",
       "      <td>49.69</td>\n",
       "      <td>1014.01</td>\n",
       "      <td>91.00</td>\n",
       "      <td>460.03</td>\n",
       "    </tr>\n",
       "    <tr>\n",
       "      <th>9564</th>\n",
       "      <td>13.19</td>\n",
       "      <td>39.18</td>\n",
       "      <td>1023.67</td>\n",
       "      <td>66.78</td>\n",
       "      <td>469.62</td>\n",
       "    </tr>\n",
       "    <tr>\n",
       "      <th>9565</th>\n",
       "      <td>31.32</td>\n",
       "      <td>74.33</td>\n",
       "      <td>1012.92</td>\n",
       "      <td>36.48</td>\n",
       "      <td>429.57</td>\n",
       "    </tr>\n",
       "    <tr>\n",
       "      <th>9566</th>\n",
       "      <td>24.48</td>\n",
       "      <td>69.45</td>\n",
       "      <td>1013.86</td>\n",
       "      <td>62.39</td>\n",
       "      <td>435.74</td>\n",
       "    </tr>\n",
       "    <tr>\n",
       "      <th>9567</th>\n",
       "      <td>21.60</td>\n",
       "      <td>62.52</td>\n",
       "      <td>1017.23</td>\n",
       "      <td>67.87</td>\n",
       "      <td>453.28</td>\n",
       "    </tr>\n",
       "  </tbody>\n",
       "</table>\n",
       "<p>9568 rows × 5 columns</p>\n",
       "</div>"
      ],
      "text/plain": [
       "         AT      V       AP     RH      PE\n",
       "0     14.96  41.76  1024.07  73.17  463.26\n",
       "1     25.18  62.96  1020.04  59.08  444.37\n",
       "2      5.11  39.40  1012.16  92.14  488.56\n",
       "3     20.86  57.32  1010.24  76.64  446.48\n",
       "4     10.82  37.50  1009.23  96.62  473.90\n",
       "...     ...    ...      ...    ...     ...\n",
       "9563  16.65  49.69  1014.01  91.00  460.03\n",
       "9564  13.19  39.18  1023.67  66.78  469.62\n",
       "9565  31.32  74.33  1012.92  36.48  429.57\n",
       "9566  24.48  69.45  1013.86  62.39  435.74\n",
       "9567  21.60  62.52  1017.23  67.87  453.28\n",
       "\n",
       "[9568 rows x 5 columns]"
      ]
     },
     "execution_count": 301,
     "metadata": {},
     "output_type": "execute_result"
    }
   ],
   "source": [
    "Folds5x2 = pand.read_excel(\"Folds5x2_pp.xlsx\", sheet_name = \"Sheet1\")\n",
    "\n",
    "Folds5x2"
   ]
  },
  {
   "cell_type": "markdown",
   "id": "1cb4eace",
   "metadata": {},
   "source": [
    "##### 1) Возьмите данные с листа 1 и выделите валидационную и тестовую выборку."
   ]
  },
  {
   "cell_type": "code",
   "execution_count": 302,
   "id": "178079ef-1ff2-4cb4-aa3b-fe0c4d87ec77",
   "metadata": {},
   "outputs": [],
   "source": [
    "train_validation, test = train_test_split(Folds5x2, test_size = 0.2)\n",
    "train, validation = train_test_split(train_validation, test_size = 0.2)"
   ]
  },
  {
   "cell_type": "markdown",
   "id": "80f9606e-d69a-47bf-b91d-721a9b5870c4",
   "metadata": {},
   "source": [
    "##### 2) Постройте регрессионную модель.  Замерьте коэффициент R^2 и среднюю ошибку предсказания на валидационной выборке."
   ]
  },
  {
   "cell_type": "code",
   "execution_count": 303,
   "id": "3d4dd886-8bc0-4063-a66a-77bdb6d5df82",
   "metadata": {},
   "outputs": [],
   "source": [
    "trainY = train[\"PE\"].to_numpy()\n",
    "trainX = train.drop([\"PE\"], axis=1).to_numpy()\n",
    "\n",
    "valY = validation[\"PE\"].to_numpy()\n",
    "valX = validation.drop([\"PE\"], axis=1).to_numpy()\n",
    "\n",
    "testY = test[\"PE\"].to_numpy()\n",
    "testX = test.drop([\"PE\"], axis=1).to_numpy()"
   ]
  },
  {
   "cell_type": "code",
   "execution_count": 306,
   "id": "ddfcb4ab-966d-4502-a99a-9bd1c0e798be",
   "metadata": {},
   "outputs": [
    {
     "name": "stdout",
     "output_type": "stream",
     "text": [
      "R^2 = 0.932157329059315\n",
      "MSE = 20.032371022251297\n"
     ]
    }
   ],
   "source": [
    "linear = LinearRegression().fit(valX, valY)\n",
    "predictions = linear.predict(valX)\n",
    "\n",
    "print(\"R^2 =\", linear.score(valX, valY)) \n",
    "print(\"MSE =\", mean_squared_error(predictions, valY))"
   ]
  },
  {
   "cell_type": "markdown",
   "id": "8279b147-ae3b-49f5-9562-840012ee34e3",
   "metadata": {},
   "source": [
    "##### 3) Постройте точки из валидационной выборки на плоскости (t=истинное значение, y=предсказание модели). Отобразите вместе с ними прямую y=t. "
   ]
  },
  {
   "cell_type": "code",
   "execution_count": 307,
   "id": "c8886675-e3f2-49ae-bb4f-18980d7b4a9d",
   "metadata": {},
   "outputs": [
    {
     "data": {
      "text/plain": [
       "Text(0, 0.5, 'Оценка')"
      ]
     },
     "execution_count": 307,
     "metadata": {},
     "output_type": "execute_result"
    },
    {
     "data": {
      "image/png": "[encoded data removed]",
      "text/plain": [
       "<Figure size 576x396 with 1 Axes>"
      ]
     },
     "metadata": {},
     "output_type": "display_data"
    }
   ],
   "source": [
    "plot.scatter(valY, predictions)\n",
    "f = lambda x: x\n",
    "x = num.linspace(420, 500,5)\n",
    "plot.plot(x, f(x), color = 'k')\n",
    "plot.xlabel(\"Наблюдение\")\n",
    "plot.ylabel(\"Оценка\")"
   ]
  }
 ],
 "metadata": {
  "kernelspec": {
   "display_name": "Python 3",
   "language": "python",
   "name": "python3"
  },
  "language_info": {
   "codemirror_mode": {
    "name": "ipython",
    "version": 3
   },
   "file_extension": ".py",
   "mimetype": "text/x-python",
   "name": "python",
   "nbconvert_exporter": "python",
   "pygments_lexer": "ipython3",
   "version": "3.9.7"
  }
 },
 "nbformat": 4,
 "nbformat_minor": 5
}
